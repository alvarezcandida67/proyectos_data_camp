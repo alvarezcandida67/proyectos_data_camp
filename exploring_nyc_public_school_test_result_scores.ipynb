{
 "cells": [
  {
   "cell_type": "code",
   "execution_count": 4,
   "id": "107c11ab",
   "metadata": {},
   "outputs": [
    {
     "data": {
      "text/html": [
       "<div>\n",
       "<style scoped>\n",
       "    .dataframe tbody tr th:only-of-type {\n",
       "        vertical-align: middle;\n",
       "    }\n",
       "\n",
       "    .dataframe tbody tr th {\n",
       "        vertical-align: top;\n",
       "    }\n",
       "\n",
       "    .dataframe thead th {\n",
       "        text-align: right;\n",
       "    }\n",
       "</style>\n",
       "<table border=\"1\" class=\"dataframe\">\n",
       "  <thead>\n",
       "    <tr style=\"text-align: right;\">\n",
       "      <th></th>\n",
       "      <th>school_name</th>\n",
       "      <th>average_math</th>\n",
       "    </tr>\n",
       "  </thead>\n",
       "  <tbody>\n",
       "    <tr>\n",
       "      <th>88</th>\n",
       "      <td>Stuyvesant High School</td>\n",
       "      <td>754</td>\n",
       "    </tr>\n",
       "    <tr>\n",
       "      <th>170</th>\n",
       "      <td>Bronx High School of Science</td>\n",
       "      <td>714</td>\n",
       "    </tr>\n",
       "    <tr>\n",
       "      <th>93</th>\n",
       "      <td>Staten Island Technical High School</td>\n",
       "      <td>711</td>\n",
       "    </tr>\n",
       "    <tr>\n",
       "      <th>365</th>\n",
       "      <td>Queens High School for the Sciences at York Co...</td>\n",
       "      <td>701</td>\n",
       "    </tr>\n",
       "    <tr>\n",
       "      <th>68</th>\n",
       "      <td>High School for Mathematics, Science, and Engi...</td>\n",
       "      <td>683</td>\n",
       "    </tr>\n",
       "  </tbody>\n",
       "</table>\n",
       "</div>"
      ],
      "text/plain": [
       "                                           school_name  average_math\n",
       "88                              Stuyvesant High School           754\n",
       "170                       Bronx High School of Science           714\n",
       "93                 Staten Island Technical High School           711\n",
       "365  Queens High School for the Sciences at York Co...           701\n",
       "68   High School for Mathematics, Science, and Engi...           683"
      ]
     },
     "execution_count": 4,
     "metadata": {},
     "output_type": "execute_result"
    }
   ],
   "source": [
    "# EXPLORING NYC PUBLIC SCHOOL TEST RESULT SCORES:\n",
    "# Proyecto realizado en la plataforma datacamp.com como parte de la ruta Cientifico de Datos con Python\n",
    "\n",
    "# 1. ¿Cuales escuelas de NYC tienen el mejor puntaje de matematicas?:\n",
    "\n",
    "# Importamos librerias necesarias\n",
    "import pandas as pd\n",
    "\n",
    "# Cargamos el archivo\n",
    "schools = pd.read_csv(\"schools.csv\")\n",
    "\n",
    "# Revisamos los datos\n",
    "schools.head()\n",
    "\n",
    "# Establecemos el punto de corte para los puntajes\n",
    "cut_off = 0.8*800\n",
    "\n",
    "# Construimos una tabla donde se muestre el nombre de la escuela y su puntaje promedio en matematicas para las escuelas que superan el punto de corte\n",
    "best_math_schools = schools[schools['average_math'] > cut_off].sort_values(by=\"average_math\", ascending=False)[['school_name', 'average_math']]\n",
    "\n",
    "# Revisamos nuestro resultado\n",
    "best_math_schools.head()"
   ]
  },
  {
   "cell_type": "code",
   "execution_count": 5,
   "id": "778b8563",
   "metadata": {},
   "outputs": [
    {
     "name": "stdout",
     "output_type": "stream",
     "text": [
      "                                           school_name  total_SAT\n",
      "88                              Stuyvesant High School       2144\n",
      "170                       Bronx High School of Science       2041\n",
      "93                 Staten Island Technical High School       2041\n",
      "174  High School of American Studies at Lehman College       2013\n",
      "333                        Townsend Harris High School       1981\n",
      "365  Queens High School for the Sciences at York Co...       1947\n",
      "5                       Bard High School Early College       1914\n",
      "280                     Brooklyn Technical High School       1896\n",
      "45                       Eleanor Roosevelt High School       1889\n",
      "68   High School for Mathematics, Science, and Engi...       1889\n"
     ]
    }
   ],
   "source": [
    "# 2. ¿Cuáles son las 10 mejores escuelas en función de los puntajes SAT combinados?:\n",
    "\n",
    "# Retomamos nuestra tabla original\n",
    "schools.head()\n",
    "\n",
    "# Añadimos una columna total_SAT = average_math + average_reading + average_writing\n",
    "schools['total_SAT'] = schools['average_math'] + schools['average_reading'] + schools['average_writing']\n",
    "\n",
    "# Ordenamos en orden descendiente y seleccionamos las columnas solicitadas por el ejercicio\n",
    "top_10_schools = schools.sort_values(by = 'total_SAT', ascending = False)[['school_name', 'total_SAT']]\n",
    "\n",
    "# Limitamos la cantidad de filas para obtener el top 10\n",
    "top_10_schools = top_10_schools.head(10)\n",
    "print(top_10_schools)"
   ]
  },
  {
   "cell_type": "code",
   "execution_count": 6,
   "id": "c594bc97",
   "metadata": {},
   "outputs": [
    {
     "name": "stdout",
     "output_type": "stream",
     "text": [
      "           num_schools  average_SAT  std_SAT\n",
      "borough                                     \n",
      "Manhattan           89      1340.13   230.29\n"
     ]
    }
   ],
   "source": [
    "# 3. ¿Qué distrito escolar tiene la mayor desviación estándar en el puntaje SAT combinado?\n",
    "\n",
    "# Retomamos nuestra tabla original\n",
    "schools.head()\n",
    "\n",
    "# Agrupamos las escuelas por municipio y calculamos los valores solicitados a 'total_SAT'\n",
    "largest_std_dev = schools.groupby('borough')['total_SAT'].agg(['count', 'mean', 'std']).round(2)\n",
    "\n",
    "# Revisamos el resultado\n",
    "largest_std_dev.head()\n",
    "\n",
    "# Filtramos para obtener los datos correspondientes al mayor valor de desviación estandar\n",
    "large_std_dev = largest_std_dev[largest_std_dev['std'] == largest_std_dev['std'].max()]\n",
    "\n",
    "# Revisamos el resultado\n",
    "#print(large_std_dev)\n",
    "\n",
    "# Renombramos las columnas para que el resultado sea mas ilustrativo\n",
    "large_std_dev = large_std_dev.rename(columns={'count':'num_schools','mean':'average_SAT','std':'std_SAT'})\n",
    "\n",
    "print(large_std_dev)\n"
   ]
  },
  {
   "cell_type": "code",
   "execution_count": null,
   "id": "4c489a32",
   "metadata": {},
   "outputs": [],
   "source": []
  }
 ],
 "metadata": {
  "kernelspec": {
   "display_name": "Python 3 (ipykernel)",
   "language": "python",
   "name": "python3"
  },
  "language_info": {
   "codemirror_mode": {
    "name": "ipython",
    "version": 3
   },
   "file_extension": ".py",
   "mimetype": "text/x-python",
   "name": "python",
   "nbconvert_exporter": "python",
   "pygments_lexer": "ipython3",
   "version": "3.11.5"
  }
 },
 "nbformat": 4,
 "nbformat_minor": 5
}
